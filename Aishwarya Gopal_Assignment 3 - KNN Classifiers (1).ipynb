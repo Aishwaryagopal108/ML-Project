{
 "cells": [
  {
   "cell_type": "markdown",
   "id": "bab0f543",
   "metadata": {},
   "source": [
    "# Assignment 3 - KNN Classifiers"
   ]
  },
  {
   "cell_type": "markdown",
   "id": "fbc21dd1",
   "metadata": {},
   "source": [
    "The goal of this assignment is to apply the K-Nearest Neighbors (KNN) classification algorithm on the digits dataset, which contains images of hand-written digits.\n",
    "\n",
    "The dataset comprises 8x8 pixel images of hand-written digits (0 through 9). Each image is represented as a 64-dimensional vector, where each dimension corresponds to a pixel's grayscale value."
   ]
  },
  {
   "cell_type": "markdown",
   "id": "bbbdced9",
   "metadata": {},
   "source": [
    "## Tasks:"
   ]
  },
  {
   "cell_type": "markdown",
   "id": "ea499c74",
   "metadata": {},
   "source": [
    "### 1. Data Loading and Exploration: (2 points)"
   ]
  },
  {
   "cell_type": "code",
   "execution_count": 1,
   "id": "11add08c",
   "metadata": {},
   "outputs": [
    {
     "name": "stdout",
     "output_type": "stream",
     "text": [
      "Data shape: (1797, 64)\n",
      "Target shape: (1797,)\n"
     ]
    },
    {
     "data": {
      "image/png": "[encoded data removed]",
      "text/plain": [
       "<Figure size 1000x500 with 10 Axes>"
      ]
     },
     "metadata": {},
     "output_type": "display_data"
    }
   ],
   "source": [
    "# Import necessary libraries\n",
    "from sklearn.datasets import load_digits\n",
    "import matplotlib.pyplot as plt\n",
    "\n",
    "# Load the dataset\n",
    "digits = load_digits()\n",
    "\n",
    "# Explore the dataset\n",
    "print(f\"Data shape: {digits.data.shape}\")\n",
    "print(f\"Target shape: {digits.target.shape}\")\n",
    "\n",
    "# Visualize the first few images and their labels\n",
    "\n",
    "fig, axes = plt.subplots(2, 5, figsize=(10, 5))\n",
    "for ax, image, label in zip(axes.ravel(), digits.images[:10], digits.target[:10]):\n",
    "    ax.imshow(image, cmap='gray')  # Show image in grayscale\n",
    "    ax.set_title(f\"Label: {label}\")  # Set title with the label\n",
    "    ax.axis('off')  # Hide axis to make it cleaner\n",
    "\n",
    "plt.tight_layout()\n",
    "plt.show()\n"
   ]
  },
  {
   "cell_type": "markdown",
   "id": "3dff10e8",
   "metadata": {},
   "source": [
    "### 2. Data Preprocessing (2 points)"
   ]
  },
  {
   "cell_type": "code",
   "execution_count": 2,
   "id": "a2673f85",
   "metadata": {},
   "outputs": [
    {
     "name": "stdout",
     "output_type": "stream",
     "text": [
      "Training set shape: (1257, 64)\n",
      "Testing set shape: (540, 64)\n"
     ]
    }
   ],
   "source": [
    "from sklearn.model_selection import train_test_split\n",
    "\n",
    "# Split the dataset into training and testing sets\n",
    "\"\"\"\n",
    "Question: Dataset Splitting (2 points)\n",
    "Using the digits dataset, divide it into training and testing sets. \n",
    "\"\"\"\n",
    "\n",
    "\n",
    "X_train, X_test, y_train, y_test = train_test_split(\n",
    "    digits.data, digits.target, test_size=0.3, random_state=42\n",
    ")\n",
    "\n",
    "# Display the shape of the training and testing sets\n",
    "print(f\"Training set shape: {X_train.shape}\")\n",
    "print(f\"Testing set shape: {X_test.shape}\")\n"
   ]
  },
  {
   "cell_type": "markdown",
   "id": "cca5e482",
   "metadata": {},
   "source": [
    "### 3. KNN Classification (2 points)"
   ]
  },
  {
   "cell_type": "code",
   "execution_count": 3,
   "id": "875b2817",
   "metadata": {},
   "outputs": [
    {
     "name": "stdout",
     "output_type": "stream",
     "text": [
      "Predicted labels: [6 9 3 7 2 1 5 2 5 2 1 9 4 0 4 2 3 7 8 8 4 3 9 7 5 6 3 5 6 3 4 9 1 4 4 6 9\n",
      " 4 7 6 6 9 1 3 6 1 3 0 6 5 5 1 9 5 6 0 9 0 0 1 0 4 5 2 4 5 7 0 7 5 9 9 5 4\n",
      " 7 0 4 5 5 9 9 0 2 3 8 0 6 4 4 9 1 2 8 3 5 2 9 0 4 4 4 3 5 3 1 3 5 9 4 2 7\n",
      " 7 4 4 1 9 2 7 8 7 2 6 9 4 0 7 2 7 5 8 7 5 7 7 0 6 6 4 2 8 0 9 4 6 9 9 6 9\n",
      " 0 3 5 6 6 0 6 4 3 9 3 4 7 2 9 0 4 5 3 6 5 9 9 8 4 2 1 3 7 7 2 2 3 9 8 0 3\n",
      " 2 2 5 6 9 9 4 1 5 4 2 3 6 4 8 5 9 5 7 8 9 4 8 1 5 4 4 9 6 1 8 6 0 4 5 2 7\n",
      " 4 6 4 5 6 0 3 2 3 6 7 1 5 1 4 7 6 8 8 5 5 1 6 2 8 8 9 5 7 6 2 2 2 3 4 8 8\n",
      " 3 6 0 9 7 7 0 1 0 4 5 1 5 3 6 0 4 1 0 0 3 6 5 9 7 3 5 5 9 9 8 5 3 3 2 0 5\n",
      " 8 3 4 0 2 4 6 4 3 4 5 0 5 2 1 3 1 4 1 1 7 0 1 5 2 1 2 8 7 0 6 4 8 8 5 1 8\n",
      " 4 5 8 7 9 8 5 0 6 2 0 7 9 8 9 5 2 7 7 1 8 7 4 3 8 3 5 6 0 0 3 0 5 0 0 4 1\n",
      " 2 8 4 5 9 6 3 1 8 8 4 2 3 8 9 8 8 5 0 6 3 3 7 1 6 4 1 2 1 1 6 4 7 4 8 3 4\n",
      " 0 5 1 9 4 5 7 6 3 7 0 5 9 7 5 9 7 4 2 1 9 0 7 5 3 3 6 3 9 6 9 5 0 1 5 5 8\n",
      " 3 3 6 2 6 5 5 2 0 8 7 3 7 0 2 2 3 5 8 7 3 6 5 9 9 2 5 6 3 0 7 1 1 9 6 1 1\n",
      " 0 0 2 9 3 9 9 3 7 7 1 3 5 4 6 1 2 1 1 8 7 6 9 2 0 4 4 8 8 7 1 3 1 7 1 3 5\n",
      " 1 7 0 0 2 2 6 9 4 1 9 0 6 7 7 9 5 4 7 0 7 6]\n"
     ]
    }
   ],
   "source": [
    "from sklearn.neighbors import KNeighborsClassifier\n",
    "\n",
    "# Initialize the KNN classifier\n",
    "knn = KNeighborsClassifier(n_neighbors=5)\n",
    "\n",
    "# Train the classifier and predict labels for the test set\n",
    "\"\"\"\n",
    "Question: KNN Classifier Training and Prediction (2 points)\n",
    "Given the initialized KNN classifier with n_neighbors set to 5, perform the following tasks:\n",
    "1- Train the classifier using the training data.\n",
    "2- Predict the labels for the test dataset using the trained classifier.\n",
    "\"\"\"\n",
    "\n",
    "# Fit the model using the training data\n",
    "knn.fit(X_train, y_train)\n",
    "\n",
    "# Predict labels for the test data and storing it in y_pred variable\n",
    "y_pred = knn.predict(X_test)\n",
    "\n",
    "# Display the predicted labels\n",
    "print(f\"Predicted labels: {y_pred}\")\n"
   ]
  },
  {
   "cell_type": "markdown",
   "id": "ce6acbdd",
   "metadata": {},
   "source": [
    "### 4. Evaluation (2 points)"
   ]
  },
  {
   "cell_type": "code",
   "execution_count": 4,
   "id": "6bc2b405",
   "metadata": {},
   "outputs": [
    {
     "name": "stdout",
     "output_type": "stream",
     "text": [
      "Accuracy with k=5: 99.26%\n",
      "Confusion Matrix:\n",
      "[[53  0  0  0  0  0  0  0  0  0]\n",
      " [ 0 50  0  0  0  0  0  0  0  0]\n",
      " [ 0  0 47  0  0  0  0  0  0  0]\n",
      " [ 0  0  0 54  0  0  0  0  0  0]\n",
      " [ 0  0  0  0 60  0  0  0  0  0]\n",
      " [ 0  0  0  0  0 65  0  0  0  1]\n",
      " [ 0  0  0  0  0  0 53  0  0  0]\n",
      " [ 0  0  0  0  0  0  0 55  0  0]\n",
      " [ 0  0  0  0  0  0  0  0 43  0]\n",
      " [ 0  0  0  1  1  1  0  0  0 56]]\n"
     ]
    }
   ],
   "source": [
    "from sklearn.metrics import accuracy_score, confusion_matrix\n",
    "\n",
    "\"\"\"\n",
    "Question: Evaluating Classifier Performance (2 points)\n",
    "After obtaining the predicted labels from the trained KNN classifier, evaluate its performance using the following metrics:\n",
    "1. Calculate the accuracy of the classifier and display it in percentage format.\n",
    "2. Compute the confusion matrix for the true labels and predicted labels.\n",
    "\"\"\"\n",
    "\n",
    "# Calculate accuracy\n",
    "accuracy = accuracy_score(y_test, y_pred)\n",
    "print(f\"Accuracy with k=5: {accuracy * 100:.2f}%\")\n",
    "\n",
    "# Confusion matrix\n",
    "conf_mat = confusion_matrix(y_test, y_pred)\n",
    "print(\"Confusion Matrix:\")\n",
    "print(conf_mat)\n"
   ]
  },
  {
   "cell_type": "markdown",
   "id": "3f799480",
   "metadata": {},
   "source": [
    "### 5. Experimenting with different k values (2 points)"
   ]
  },
  {
   "cell_type": "code",
   "execution_count": 5,
   "id": "0c68f06f",
   "metadata": {},
   "outputs": [
    {
     "data": {
      "image/png": "[encoded data removed]",
      "text/plain": [
       "<Figure size 640x480 with 1 Axes>"
      ]
     },
     "metadata": {},
     "output_type": "display_data"
    }
   ],
   "source": [
    "k_values = [1, 3, 5, 7, 9, 11, 13, 15]\n",
    "accuracies = []\n",
    "\n",
    "\"\"\"\n",
    "Question: Experimenting with Different k-values in KNN (2 points)\n",
    "The k-value in KNN determines the number of neighbors to consider when making a prediction. To find an optimal k-value, perform the following:\n",
    "1. Iterate over different k-values given in the k_values list.\n",
    "2. For each k-value, train the KNN classifier and predict the labels for the test set.\n",
    "3. Calculate and store the accuracy for each k-value in the accuracies list.\n",
    "4. Finally, plot a graph of accuracy vs. k-values to visualize the performance of the KNN classifier for different k-values.\n",
    "\"\"\"\n",
    "\n",
    "for k in k_values:\n",
    "    # Initialize the classifier with the current k-value\n",
    "    knn = KNeighborsClassifier(n_neighbors=k)\n",
    "    \n",
    "    # Train the classifier\n",
    "    knn.fit(X_train, y_train)\n",
    "    \n",
    "    # Predict on the test data\n",
    "    y_pred = knn.predict(X_test)\n",
    "    \n",
    "    # Calculate the accuracy and store it in the accuracies list\n",
    "    accuracy = accuracy_score(y_test, y_pred)\n",
    "    accuracies.append(accuracy)\n",
    "\n",
    "# Plot the results\n",
    "plt.plot(k_values, accuracies, marker='o')\n",
    "plt.xlabel(\"k values\")\n",
    "plt.ylabel(\"Accuracy\")\n",
    "plt.title(\"Accuracy vs. k values in KNN\")\n",
    "plt.show()\n"
   ]
  },
  {
   "cell_type": "code",
   "execution_count": null,
   "id": "fb15aac8",
   "metadata": {},
   "outputs": [],
   "source": []
  }
 ],
 "metadata": {
  "kernelspec": {
   "display_name": "Python 3 (ipykernel)",
   "language": "python",
   "name": "python3"
  },
  "language_info": {
   "codemirror_mode": {
    "name": "ipython",
    "version": 3
   },
   "file_extension": ".py",
   "mimetype": "text/x-python",
   "name": "python",
   "nbconvert_exporter": "python",
   "pygments_lexer": "ipython3",
   "version": "3.12.4"
  }
 },
 "nbformat": 4,
 "nbformat_minor": 5
}
